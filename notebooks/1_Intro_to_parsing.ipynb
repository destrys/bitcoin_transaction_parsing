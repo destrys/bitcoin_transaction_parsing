{
 "cells": [
  {
   "cell_type": "raw",
   "metadata": {},
   "source": [
    "<script>\n",
    "  // http://chris-said.io/2016/02/13/how-to-make-polished-jupyter-presentations-with-optional-code-visibility/\n",
    "  // https://github.com/csaid/polished_notebooks\n",
    "  function code_toggle() {\n",
    "    if (code_shown){\n",
    "      $('div.input').hide('500');\n",
    "      $('#toggleButton').val('Show Code')\n",
    "    } else {\n",
    "      $('div.input').show('500');\n",
    "      $('#toggleButton').val('Hide Code')\n",
    "    }\n",
    "    code_shown = !code_shown\n",
    "  }\n",
    "\n",
    "  $( document ).ready(function(){\n",
    "    code_shown=false;\n",
    "    $('div.input').hide()\n",
    "  });\n",
    "</script>\n",
    "<form action=\"javascript:code_toggle()\"><input type=\"submit\" id=\"toggleButton\" value=\"Show Code\"></form>"
   ]
  },
  {
   "cell_type": "markdown",
   "metadata": {},
   "source": [
    "# Intro to Bitcoin Transaction Parsing\n",
    "\n",
    "This notebook is designed to viewed through NBviewer, please navigate your browser to https://nbviewer.jupyter.org/github/destrys/bitcoin_transaction_parsing/blob/master/notebooks/1_Intro_to_parsing.ipynb\n",
    "\n",
    "And we start with a **warning**: Vitalek's pybitcointools and Peter Todd's python-bitcoinlib both install as 'bitcoin'. Beware. We're using Peter Todd's python-bitcoinlib for these notebooks.\n",
    "\n",
    "\n",
    "### Contents\n",
    "1. Import a Transaction\n",
    "2. Deserialize the Tx into metadata, inputs, and outputs\n",
    "3. Investigate the metadata\n",
    "4. Inputs and Output parsing will be in the following notebooks."
   ]
  },
  {
   "cell_type": "markdown",
   "metadata": {},
   "source": [
    "### 1. Import a Transaction\n",
    "\n",
    "We'll cover how to grab raw transactions in another notebook. For now, the easier way to get a raw transaction is\n",
    "to use blockchain.info and  \n",
    "append ```?format=hex``` to the url.\n",
    "\n",
    "Here is the output of https://blockchain.info/tx/9021b49d445c719106c95d561b9c3fac7bcb3650db67684a9226cd7fa1e1c1a0?format=hex:"
   ]
  },
  {
   "cell_type": "code",
   "execution_count": 1,
   "metadata": {},
   "outputs": [
    {
     "name": "stdout",
     "output_type": "stream",
     "text": [
      "Raw Transaction:  0100000002d8c8df6a6fdd2addaf589a83d860f18b44872d13ee6ec3526b2b470d42a96d4d000000008b483045022100b31557e47191936cb14e013fb421b1860b5e4fd5d2bc5ec1938f4ffb1651dc8902202661c2920771fd29dd91cd4100cefb971269836da4914d970d333861819265ba014104c54f8ea9507f31a05ae325616e3024bd9878cb0a5dff780444002d731577be4e2e69c663ff2da922902a4454841aa1754c1b6292ad7d317150308d8cce0ad7abffffffff2ab3fa4f68a512266134085d3260b94d3b6cfd351450cff021c045a69ba120b2000000008b4830450220230110bc99ef311f1f8bda9d0d968bfe5dfa4af171adbef9ef71678d658823bf022100f956d4fcfa0995a578d84e7e913f9bb1cf5b5be1440bcede07bce9cd5b38115d014104c6ec27cffce0823c3fecb162dbd576c88dd7cda0b7b32b0961188a392b488c94ca174d833ee6a9b71c0996620ae71e799fc7c77901db147fa7d97732e49c8226ffffffff02c0175302000000001976a914a3d89c53bb956f08917b44d113c6b2bcbe0c29b788acc01c3d09000000001976a91408338e1d5e26db3fce21b011795b1c3c8a5a5d0788ac00000000\n"
     ]
    }
   ],
   "source": [
    "rawtx = \"0100000002d8c8df6a6fdd2addaf589a83d860f18b44872d13ee6ec3526b2b470d42a96d4d000000008b483045022100b31557e47191936cb14e013fb421b1860b5e4fd5d2bc5ec1938f4ffb1651dc8902202661c2920771fd29dd91cd4100cefb971269836da4914d970d333861819265ba014104c54f8ea9507f31a05ae325616e3024bd9878cb0a5dff780444002d731577be4e2e69c663ff2da922902a4454841aa1754c1b6292ad7d317150308d8cce0ad7abffffffff2ab3fa4f68a512266134085d3260b94d3b6cfd351450cff021c045a69ba120b2000000008b4830450220230110bc99ef311f1f8bda9d0d968bfe5dfa4af171adbef9ef71678d658823bf022100f956d4fcfa0995a578d84e7e913f9bb1cf5b5be1440bcede07bce9cd5b38115d014104c6ec27cffce0823c3fecb162dbd576c88dd7cda0b7b32b0961188a392b488c94ca174d833ee6a9b71c0996620ae71e799fc7c77901db147fa7d97732e49c8226ffffffff02c0175302000000001976a914a3d89c53bb956f08917b44d113c6b2bcbe0c29b788acc01c3d09000000001976a91408338e1d5e26db3fce21b011795b1c3c8a5a5d0788ac00000000\"\n",
    "print(\"Raw Transaction: \", rawtx)"
   ]
  },
  {
   "cell_type": "markdown",
   "metadata": {},
   "source": [
    "### 2. Deserialize the Tx into Metadata, Inputs, and Outputs\n",
    "\n",
    "The bitcoin blockchain has a rigid transaction serialization structure. As follows:\n",
    "\n",
    "https://bitcoin.org/en/developer-reference#raw-transaction-format\n",
    "\n",
    "\n",
    "* Version: 4 Bytes\n",
    "* Number of Inputs: CompactSize Bytes\n",
    "* Serialized Inputs\n",
    "* Number of Outputs: CompactSize Bytes\n",
    "* Serialized Outputs\n",
    "* Timestamp : 4 Bytes\n",
    "\n",
    "We're going to slowly walk though deserializing a raw transaction."
   ]
  },
  {
   "cell_type": "code",
   "execution_count": 2,
   "metadata": {},
   "outputs": [],
   "source": [
    "# Extract Version Bytes and remove from leading edge of the raw transaction.\n",
    "version = rawtx[0:8]\n",
    "rawtx = rawtx[8:]"
   ]
  },
  {
   "cell_type": "markdown",
   "metadata": {},
   "source": [
    "#### Version\n",
    "The first 4 bytes are the version bytes. \n",
    "\n",
    "When representing bytes in hex, each byte is two characters.  \n",
    "From wikipedia: \"As each hexadecimal digit represents four binary digits (bits), it allows a more human-friendly representation of binary-coded values. One hexadecimal digit represents a nibble (4 bits), which is half of an octet or byte (8 bits). For example, a single byte can have values ranging from 00000000 to 11111111 in binary form, but this may be more conveniently represented as 00 to FF in hexadecimal.\"\n",
    "\n",
    "So to extract the version bytes we grab the first 8 characters."
   ]
  },
  {
   "cell_type": "code",
   "execution_count": 3,
   "metadata": {},
   "outputs": [
    {
     "name": "stdout",
     "output_type": "stream",
     "text": [
      "Version Bytes:  01000000\n"
     ]
    }
   ],
   "source": [
    "print('Version Bytes: ',version)"
   ]
  },
  {
   "cell_type": "markdown",
   "metadata": {},
   "source": [
    "And remove those bytes from the front of the raw transaction."
   ]
  },
  {
   "cell_type": "code",
   "execution_count": 4,
   "metadata": {},
   "outputs": [
    {
     "name": "stdout",
     "output_type": "stream",
     "text": [
      "Remaining Raw Transaction:  02d8c8df6a6fdd2addaf589a83d860f18b44872d13ee6ec3526b2b470d42a96d4d000000008b483045022100b31557e47191936cb14e013fb421b1860b5e4fd5d2bc5ec1938f4ffb1651dc8902202661c2920771fd29dd91cd4100cefb971269836da4914d970d333861819265ba014104c54f8ea9507f31a05ae325616e3024bd9878cb0a5dff780444002d731577be4e2e69c663ff2da922902a4454841aa1754c1b6292ad7d317150308d8cce0ad7abffffffff2ab3fa4f68a512266134085d3260b94d3b6cfd351450cff021c045a69ba120b2000000008b4830450220230110bc99ef311f1f8bda9d0d968bfe5dfa4af171adbef9ef71678d658823bf022100f956d4fcfa0995a578d84e7e913f9bb1cf5b5be1440bcede07bce9cd5b38115d014104c6ec27cffce0823c3fecb162dbd576c88dd7cda0b7b32b0961188a392b488c94ca174d833ee6a9b71c0996620ae71e799fc7c77901db147fa7d97732e49c8226ffffffff02c0175302000000001976a914a3d89c53bb956f08917b44d113c6b2bcbe0c29b788acc01c3d09000000001976a91408338e1d5e26db3fce21b011795b1c3c8a5a5d0788ac00000000\n"
     ]
    }
   ],
   "source": [
    "print(\"Remaining Raw Transaction: \", rawtx)"
   ]
  },
  {
   "cell_type": "markdown",
   "metadata": {},
   "source": [
    "#### Number of Inputs\n",
    "\n",
    "The next field is the number of inputs, this is the first instance of a CompactSize integer: https://bitcoin.org/en/developer-reference#compactsize-unsigned-integers . In practice, the number of inputs will always be less than 253 (0xfd), but it's good practice to treat this field as variable-sized."
   ]
  },
  {
   "cell_type": "code",
   "execution_count": 5,
   "metadata": {},
   "outputs": [],
   "source": [
    "def extract_compact_sized(raw_hex):\n",
    "    if raw_hex[0:2] == \"ff\":\n",
    "        return raw_hex[0:18]\n",
    "    if raw_hex[0:2] == \"fe\":\n",
    "        return raw_hex[0:10]\n",
    "    if raw_hex[0:2] == \"fd\":\n",
    "        return raw_hex[0:6]\n",
    "    else:\n",
    "        return raw_hex[0:2]"
   ]
  },
  {
   "cell_type": "code",
   "execution_count": 6,
   "metadata": {},
   "outputs": [
    {
     "name": "stdout",
     "output_type": "stream",
     "text": [
      "Number of Inputs in Hex:  02\n",
      "Number of Inputs:  2\n"
     ]
    }
   ],
   "source": [
    "number_of_inputs_hex = extract_compact_sized(rawtx)\n",
    "print(\"Number of Inputs in Hex: \",number_of_inputs_hex)\n",
    "number_of_inputs = int(number_of_inputs_hex, 16)\n",
    "print(\"Number of Inputs: \", number_of_inputs)\n",
    "rawtx = rawtx[len(number_of_inputs_hex):]"
   ]
  },
  {
   "cell_type": "code",
   "execution_count": 7,
   "metadata": {},
   "outputs": [
    {
     "name": "stdout",
     "output_type": "stream",
     "text": [
      "Remaing Raw Transaction:  d8c8df6a6fdd2addaf589a83d860f18b44872d13ee6ec3526b2b470d42a96d4d000000008b483045022100b31557e47191936cb14e013fb421b1860b5e4fd5d2bc5ec1938f4ffb1651dc8902202661c2920771fd29dd91cd4100cefb971269836da4914d970d333861819265ba014104c54f8ea9507f31a05ae325616e3024bd9878cb0a5dff780444002d731577be4e2e69c663ff2da922902a4454841aa1754c1b6292ad7d317150308d8cce0ad7abffffffff2ab3fa4f68a512266134085d3260b94d3b6cfd351450cff021c045a69ba120b2000000008b4830450220230110bc99ef311f1f8bda9d0d968bfe5dfa4af171adbef9ef71678d658823bf022100f956d4fcfa0995a578d84e7e913f9bb1cf5b5be1440bcede07bce9cd5b38115d014104c6ec27cffce0823c3fecb162dbd576c88dd7cda0b7b32b0961188a392b488c94ca174d833ee6a9b71c0996620ae71e799fc7c77901db147fa7d97732e49c8226ffffffff02c0175302000000001976a914a3d89c53bb956f08917b44d113c6b2bcbe0c29b788acc01c3d09000000001976a91408338e1d5e26db3fce21b011795b1c3c8a5a5d0788ac00000000\n"
     ]
    }
   ],
   "source": [
    "print(\"Remaing Raw Transaction: \", rawtx)"
   ]
  },
  {
   "cell_type": "markdown",
   "metadata": {},
   "source": [
    "### Inputs\n",
    "\n",
    "The size of an input in the transaction isn't fixed because the signature to authorize a spend can vary between different types of transaction scripts (P2PKH, P2SH, etc.) So to extract each input, we have to extract each field of input.\n",
    "\n",
    "The transaction input serialization is as follows:\n",
    "https://bitcoin.org/en/developer-reference#txin\n",
    "\n",
    "* Outpoint : 36 bytes (32 Bytes for the reference tx hash, 4 bytes for the reference tx index)\n",
    "* Script Size: CompactSize Bytes\n",
    "* ScriptSig: ScriptSize Bytes\n",
    "* Sequence: 4 Bytes (usually 0xffffffff which is easy to spot by eye)\n"
   ]
  },
  {
   "cell_type": "code",
   "execution_count": 8,
   "metadata": {},
   "outputs": [
    {
     "name": "stdout",
     "output_type": "stream",
     "text": [
      "Input 1 Reference TxHash:  d8c8df6a6fdd2addaf589a83d860f18b44872d13ee6ec3526b2b470d42a96d4d\n"
     ]
    }
   ],
   "source": [
    "input_reftx_1_raw = rawtx[0:32*2]\n",
    "print(\"Input 1 Reference TxHash: \",input_reftx_1_raw)\n",
    "rawtx = rawtx[32*2:]"
   ]
  },
  {
   "cell_type": "code",
   "execution_count": 9,
   "metadata": {},
   "outputs": [
    {
     "name": "stdout",
     "output_type": "stream",
     "text": [
      "Input 1 Output Index (hex):  00000000\n",
      "Input 1 Output Index:  0\n"
     ]
    }
   ],
   "source": [
    "input_output_index_1_hex = rawtx[0:8]\n",
    "print(\"Input 1 Output Index (hex): \", input_output_index_1_hex)\n",
    "input_output_index_1 = int(input_output_index_1_hex,16)\n",
    "print(\"Input 1 Output Index: \", input_output_index_1)\n",
    "rawtx = rawtx[8:]"
   ]
  },
  {
   "cell_type": "code",
   "execution_count": 10,
   "metadata": {},
   "outputs": [
    {
     "name": "stdout",
     "output_type": "stream",
     "text": [
      "Input 1 ScriptSig Length (hex):  8b\n",
      "Input 1 ScriptSig Length 139\n"
     ]
    }
   ],
   "source": [
    "input_scriptsig_length_1_hex = extract_compact_sized(rawtx)\n",
    "print(\"Input 1 ScriptSig Length (hex): \", input_scriptsig_length_1_hex)\n",
    "input_scriptsig_length_1 = int(input_scriptsig_length_1_hex,16)\n",
    "print(\"Input 1 ScriptSig Length\", input_scriptsig_length_1)\n",
    "rawtx = rawtx[len(input_scriptsig_length_1_hex):]"
   ]
  },
  {
   "cell_type": "code",
   "execution_count": 11,
   "metadata": {},
   "outputs": [
    {
     "name": "stdout",
     "output_type": "stream",
     "text": [
      "Input 1 ScriptSig:  483045022100b31557e47191936cb14e013fb421b1860b5e4fd5d2bc5ec1938f4ffb1651dc8902202661c2920771fd29dd91cd4100cefb971269836da4914d970d333861819265ba014104c54f8ea9507f31a05ae325616e3024bd9878cb0a5dff780444002d731577be4e2e69c663ff2da922902a4454841aa1754c1b6292ad7d317150308d8cce0ad7ab\n"
     ]
    }
   ],
   "source": [
    "input_scriptsig_1 = rawtx[0:input_scriptsig_length_1*2]\n",
    "print(\"Input 1 ScriptSig: \",input_scriptsig_1)\n",
    "rawtx = rawtx[input_scriptsig_length_1*2:]"
   ]
  },
  {
   "cell_type": "code",
   "execution_count": 12,
   "metadata": {},
   "outputs": [
    {
     "name": "stdout",
     "output_type": "stream",
     "text": [
      "Input 1 Sequence:  ffffffff\n"
     ]
    }
   ],
   "source": [
    "input_sequence_1 = rawtx[0:8]\n",
    "print(\"Input 1 Sequence: \", input_sequence_1)\n",
    "rawtx = rawtx[8:]"
   ]
  },
  {
   "cell_type": "code",
   "execution_count": 13,
   "metadata": {},
   "outputs": [
    {
     "name": "stdout",
     "output_type": "stream",
     "text": [
      "RawTx after extracting first input:  2ab3fa4f68a512266134085d3260b94d3b6cfd351450cff021c045a69ba120b2000000008b4830450220230110bc99ef311f1f8bda9d0d968bfe5dfa4af171adbef9ef71678d658823bf022100f956d4fcfa0995a578d84e7e913f9bb1cf5b5be1440bcede07bce9cd5b38115d014104c6ec27cffce0823c3fecb162dbd576c88dd7cda0b7b32b0961188a392b488c94ca174d833ee6a9b71c0996620ae71e799fc7c77901db147fa7d97732e49c8226ffffffff02c0175302000000001976a914a3d89c53bb956f08917b44d113c6b2bcbe0c29b788acc01c3d09000000001976a91408338e1d5e26db3fce21b011795b1c3c8a5a5d0788ac00000000\n"
     ]
    }
   ],
   "source": [
    "print(\"RawTx after extracting first input: \", rawtx)"
   ]
  },
  {
   "cell_type": "code",
   "execution_count": 14,
   "metadata": {},
   "outputs": [
    {
     "name": "stdout",
     "output_type": "stream",
     "text": [
      "Input 1 :  d8c8df6a6fdd2addaf589a83d860f18b44872d13ee6ec3526b2b470d42a96d4d000000008b483045022100b31557e47191936cb14e013fb421b1860b5e4fd5d2bc5ec1938f4ffb1651dc8902202661c2920771fd29dd91cd4100cefb971269836da4914d970d333861819265ba014104c54f8ea9507f31a05ae325616e3024bd9878cb0a5dff780444002d731577be4e2e69c663ff2da922902a4454841aa1754c1b6292ad7d317150308d8cce0ad7abffffffff\n"
     ]
    }
   ],
   "source": [
    "print(\"Input 1 : \", \"\".join([input_reftx_1_raw, input_output_index_1_hex, input_scriptsig_length_1_hex, input_scriptsig_1, input_sequence_1]))"
   ]
  },
  {
   "cell_type": "markdown",
   "metadata": {},
   "source": [
    "And now for the second input (remember above that there are 2 inputs specified)"
   ]
  },
  {
   "cell_type": "code",
   "execution_count": 15,
   "metadata": {},
   "outputs": [
    {
     "name": "stdout",
     "output_type": "stream",
     "text": [
      "Input 2 Reference TxHash:  2ab3fa4f68a512266134085d3260b94d3b6cfd351450cff021c045a69ba120b2\n"
     ]
    }
   ],
   "source": [
    "input_reftx_2_raw = rawtx[0:32*2]\n",
    "print(\"Input 2 Reference TxHash: \",input_reftx_2_raw)\n",
    "rawtx = rawtx[32*2:]"
   ]
  },
  {
   "cell_type": "code",
   "execution_count": 16,
   "metadata": {},
   "outputs": [
    {
     "name": "stdout",
     "output_type": "stream",
     "text": [
      "Input 2 Output Index (hex):  00000000\n",
      "Input 2 Output Index:  0\n"
     ]
    }
   ],
   "source": [
    "input_output_index_2_hex = rawtx[0:8]\n",
    "print(\"Input 2 Output Index (hex): \", input_output_index_2_hex)\n",
    "input_output_index_2 = int(input_output_index_2_hex,16)\n",
    "print(\"Input 2 Output Index: \", input_output_index_2)\n",
    "rawtx = rawtx[8:]"
   ]
  },
  {
   "cell_type": "code",
   "execution_count": 17,
   "metadata": {},
   "outputs": [
    {
     "name": "stdout",
     "output_type": "stream",
     "text": [
      "Input 2 ScriptSig Length (hex):  8b\n",
      "Input 2 ScriptSig Length 139\n"
     ]
    }
   ],
   "source": [
    "input_scriptsig_length_2_hex = extract_compact_sized(rawtx)\n",
    "print(\"Input 2 ScriptSig Length (hex): \", input_scriptsig_length_2_hex)\n",
    "input_scriptsig_length_2 = int(input_scriptsig_length_2_hex,16)\n",
    "print(\"Input 2 ScriptSig Length\", input_scriptsig_length_2)\n",
    "rawtx = rawtx[len(input_scriptsig_length_2_hex):]"
   ]
  },
  {
   "cell_type": "code",
   "execution_count": 18,
   "metadata": {},
   "outputs": [
    {
     "name": "stdout",
     "output_type": "stream",
     "text": [
      "Input 2 ScriptSig:  4830450220230110bc99ef311f1f8bda9d0d968bfe5dfa4af171adbef9ef71678d658823bf022100f956d4fcfa0995a578d84e7e913f9bb1cf5b5be1440bcede07bce9cd5b38115d014104c6ec27cffce0823c3fecb162dbd576c88dd7cda0b7b32b0961188a392b488c94ca174d833ee6a9b71c0996620ae71e799fc7c77901db147fa7d97732e49c8226\n"
     ]
    }
   ],
   "source": [
    "input_scriptsig_2 = rawtx[0:input_scriptsig_length_2*2]\n",
    "print(\"Input 2 ScriptSig: \",input_scriptsig_2)\n",
    "rawtx = rawtx[input_scriptsig_length_2*2:]"
   ]
  },
  {
   "cell_type": "code",
   "execution_count": 19,
   "metadata": {},
   "outputs": [
    {
     "name": "stdout",
     "output_type": "stream",
     "text": [
      "Input 2 Sequence:  ffffffff\n"
     ]
    }
   ],
   "source": [
    "input_sequence_2 = rawtx[0:8]\n",
    "print(\"Input 2 Sequence: \", input_sequence_2)\n",
    "rawtx = rawtx[8:]"
   ]
  },
  {
   "cell_type": "code",
   "execution_count": 20,
   "metadata": {},
   "outputs": [
    {
     "name": "stdout",
     "output_type": "stream",
     "text": [
      "RawTx after extracting second input:  02c0175302000000001976a914a3d89c53bb956f08917b44d113c6b2bcbe0c29b788acc01c3d09000000001976a91408338e1d5e26db3fce21b011795b1c3c8a5a5d0788ac00000000\n"
     ]
    }
   ],
   "source": [
    "print(\"RawTx after extracting second input: \", rawtx)"
   ]
  },
  {
   "cell_type": "code",
   "execution_count": 21,
   "metadata": {},
   "outputs": [
    {
     "name": "stdout",
     "output_type": "stream",
     "text": [
      "Input 2 :  2ab3fa4f68a512266134085d3260b94d3b6cfd351450cff021c045a69ba120b2000000008b4830450220230110bc99ef311f1f8bda9d0d968bfe5dfa4af171adbef9ef71678d658823bf022100f956d4fcfa0995a578d84e7e913f9bb1cf5b5be1440bcede07bce9cd5b38115d014104c6ec27cffce0823c3fecb162dbd576c88dd7cda0b7b32b0961188a392b488c94ca174d833ee6a9b71c0996620ae71e799fc7c77901db147fa7d97732e49c8226ffffffff\n"
     ]
    }
   ],
   "source": [
    "print(\"Input 2 : \", \"\".join([input_reftx_2_raw, input_output_index_2_hex ,input_scriptsig_length_2_hex, input_scriptsig_2, input_sequence_2]))"
   ]
  },
  {
   "cell_type": "markdown",
   "metadata": {},
   "source": [
    "A better way to extract these imputs would be to have a little function that pops them off and stores them in a list of dictionaries, but we're doing this the slow verbose way so you can see each step clearly."
   ]
  },
  {
   "cell_type": "markdown",
   "metadata": {},
   "source": [
    "#### Number of Outputs\n",
    "\n",
    "This is the same as the number of inputs, but specifies how many outputs follow. Again, realistically it won't be over 253, but we still treat it as CompactSize bytes."
   ]
  },
  {
   "cell_type": "code",
   "execution_count": 22,
   "metadata": {},
   "outputs": [
    {
     "name": "stdout",
     "output_type": "stream",
     "text": [
      "Number of Outputs in Hex:  02\n",
      "Number of Outputs:  2\n"
     ]
    }
   ],
   "source": [
    "number_of_outputs_hex = extract_compact_sized(rawtx)\n",
    "print(\"Number of Outputs in Hex: \",number_of_outputs_hex)\n",
    "number_of_outputs = int(number_of_outputs_hex, 16)\n",
    "print(\"Number of Outputs: \", number_of_outputs)\n",
    "rawtx = rawtx[len(number_of_outputs_hex):]"
   ]
  },
  {
   "cell_type": "markdown",
   "metadata": {},
   "source": [
    "#### Outputs\n",
    "\n",
    "Output serialization is much easier than input serialization because you don't need to specify any previous transactions and you don't need a signature. \n",
    "\n",
    "TODO: Link to output serialization\n",
    "\n",
    "* Value: 8 Bytes - the amount to send to this output in satoshis\n",
    "* Length of Script - CompactSize Bytes\n",
    "* Script - The script that 'encumbers' the output. See the notebook on outputs and script."
   ]
  },
  {
   "cell_type": "markdown",
   "metadata": {},
   "source": [
    "#### Value\n",
    "\n",
    "The value sent to this output in satoshis.\n",
    "\n",
    "One annoyance here is that the values are formatted in 'big-endian' format, which flips the bytes from most important first, to most important last. In decimal this is the equivalent of representing 'one thousand twenty' as 0201. To convert from big-endian hex  we have to swap the bytes around first (unlike when we extract the number of inputs or outputs)."
   ]
  },
  {
   "cell_type": "code",
   "execution_count": 23,
   "metadata": {},
   "outputs": [
    {
     "name": "stdout",
     "output_type": "stream",
     "text": [
      "Value of Output 1 (big-endian hex):  c017530200000000\n",
      "Value of Ouput 1 (little-endian hex):  00000000025317c0\n",
      "Value of Output 1 (sat):  39000000\n",
      "Value of Output 1 (btc):  0.39\n"
     ]
    }
   ],
   "source": [
    "output_value_1_hex= rawtx[0:16]\n",
    "print(\"Value of Output 1 (big-endian hex): \", output_value_1_hex)\n",
    "\n",
    "from binascii import unhexlify\n",
    "# convert to bytes \n",
    "value_bytes = unhexlify(output_value_1_hex)\n",
    "# reverse byte oder\n",
    "swapped_bytes = value_bytes[::-1]\n",
    "# convert back to hex\n",
    "swapped_hex = swapped_bytes.hex()\n",
    "print(\"Value of Ouput 1 (little-endian hex): \", swapped_hex)\n",
    "# convert to Int\n",
    "output_value_1 = int(swapped_hex, 16)\n",
    "print(\"Value of Output 1 (sat): \", output_value_1)\n",
    "print(\"Value of Output 1 (btc): \", output_value_1 / 1e8)\n",
    "rawtx = rawtx[16:]"
   ]
  },
  {
   "cell_type": "markdown",
   "metadata": {},
   "source": [
    "#### Length of Script\n",
    "\n",
    "This is the same format as the length of the ScriptSig in an input."
   ]
  },
  {
   "cell_type": "code",
   "execution_count": 24,
   "metadata": {},
   "outputs": [
    {
     "name": "stdout",
     "output_type": "stream",
     "text": [
      "Output 1 Script Length (hex):  19\n",
      "Output 1 Script Length 25\n"
     ]
    }
   ],
   "source": [
    "output_script_length_1_hex = extract_compact_sized(rawtx)\n",
    "print(\"Output 1 Script Length (hex): \", output_script_length_1_hex)\n",
    "output_script_length_1 = int(output_script_length_1_hex,16)\n",
    "print(\"Output 1 Script Length\", output_script_length_1)\n",
    "rawtx = rawtx[len(output_script_length_1_hex):]"
   ]
  },
  {
   "cell_type": "markdown",
   "metadata": {},
   "source": [
    "#### Output Script\n",
    "\n",
    "We now have the length of the output script, so we can extract it."
   ]
  },
  {
   "cell_type": "code",
   "execution_count": 25,
   "metadata": {},
   "outputs": [
    {
     "name": "stdout",
     "output_type": "stream",
     "text": [
      "Output 1 Script:  76a914a3d89c53bb956f08917b44d113c6b2bcbe0c29b788ac\n"
     ]
    }
   ],
   "source": [
    "output_script_1 = rawtx[0:output_script_length_1*2]\n",
    "print(\"Output 1 Script: \",output_script_1)\n",
    "rawtx = rawtx[output_script_length_1*2:]"
   ]
  },
  {
   "cell_type": "markdown",
   "metadata": {},
   "source": [
    "Note that this is **not** a bitcoin address. TODO: convert to base58Check to confirm this."
   ]
  },
  {
   "cell_type": "code",
   "execution_count": 26,
   "metadata": {},
   "outputs": [
    {
     "name": "stdout",
     "output_type": "stream",
     "text": [
      "Remaining RawTx:  c01c3d09000000001976a91408338e1d5e26db3fce21b011795b1c3c8a5a5d0788ac00000000\n"
     ]
    }
   ],
   "source": [
    "print(\"Remaining RawTx: \", rawtx)"
   ]
  },
  {
   "cell_type": "markdown",
   "metadata": {},
   "source": [
    "#### Output 2\n",
    "\n",
    "Same process, second output."
   ]
  },
  {
   "cell_type": "code",
   "execution_count": 27,
   "metadata": {},
   "outputs": [
    {
     "name": "stdout",
     "output_type": "stream",
     "text": [
      "Value of Output 2 (big-endian hex):  c01c3d0900000000\n",
      "Value of Ouput 2 (little-endian hex):  00000000093d1cc0\n",
      "Value of Output 2 (sat):  155000000\n",
      "Value of Output 2 (btc):  1.55\n"
     ]
    }
   ],
   "source": [
    "output_value_2_hex= rawtx[0:16]\n",
    "print(\"Value of Output 2 (big-endian hex): \", output_value_2_hex)\n",
    "\n",
    "from binascii import unhexlify\n",
    "# convert to bytes \n",
    "value_bytes = unhexlify(output_value_2_hex)\n",
    "# reverse byte oder\n",
    "swapped_bytes = value_bytes[::-1]\n",
    "# convert back to hex\n",
    "swapped_hex = swapped_bytes.hex()\n",
    "print(\"Value of Ouput 2 (little-endian hex): \", swapped_hex)\n",
    "# convert to Int\n",
    "output_value_2 = int(swapped_hex, 16)\n",
    "print(\"Value of Output 2 (sat): \", output_value_2)\n",
    "print(\"Value of Output 2 (btc): \", output_value_2 / 1e8)\n",
    "rawtx = rawtx[16:]"
   ]
  },
  {
   "cell_type": "code",
   "execution_count": 28,
   "metadata": {},
   "outputs": [
    {
     "name": "stdout",
     "output_type": "stream",
     "text": [
      "Output 2 Script Length (hex):  19\n",
      "Output 2 Script Length 25\n"
     ]
    }
   ],
   "source": [
    "output_script_length_2_hex = extract_compact_sized(rawtx)\n",
    "print(\"Output 2 Script Length (hex): \", output_script_length_2_hex)\n",
    "output_script_length_2 = int(output_script_length_2_hex,16)\n",
    "print(\"Output 2 Script Length\", output_script_length_2)\n",
    "rawtx = rawtx[len(output_script_length_2_hex):]"
   ]
  },
  {
   "cell_type": "code",
   "execution_count": 29,
   "metadata": {},
   "outputs": [
    {
     "name": "stdout",
     "output_type": "stream",
     "text": [
      "Output 2 Script:  76a91408338e1d5e26db3fce21b011795b1c3c8a5a5d0788ac\n"
     ]
    }
   ],
   "source": [
    "output_script_2= rawtx[0:output_script_length_2*2]\n",
    "print(\"Output 2 Script: \",output_script_2)\n",
    "rawtx = rawtx[output_script_length_2*2:]"
   ]
  },
  {
   "cell_type": "code",
   "execution_count": 30,
   "metadata": {},
   "outputs": [
    {
     "name": "stdout",
     "output_type": "stream",
     "text": [
      "Remaining RawTx:  00000000\n"
     ]
    }
   ],
   "source": [
    "print(\"Remaining RawTx: \", rawtx)"
   ]
  },
  {
   "cell_type": "markdown",
   "metadata": {},
   "source": [
    "### Lock_time\n",
    "\n",
    "The last 4 bytes of the serialized transaction is the lock_time that can be parsed in two ways:\n",
    "\n",
    "https://bitcoin.org/en/developer-guide#locktime-and-sequence-number\n",
    "\n",
    "* If less than 500 million, locktime is parsed as a block height. The transaction can be added to any block which has this height or higher.\n",
    "\n",
    "* If greater than or equal to 500 million, locktime is parsed using the Unix epoch time format (the number of seconds elapsed since 1970-01-01T00:00 UTC—currently over 1.395 billion). The transaction can be added to any block whose block time is greater than the locktime."
   ]
  },
  {
   "cell_type": "code",
   "execution_count": 31,
   "metadata": {},
   "outputs": [
    {
     "name": "stdout",
     "output_type": "stream",
     "text": [
      "There are  4  bytes left in the raw transaction.\n",
      "Lock Time:  00000000\n"
     ]
    }
   ],
   "source": [
    "print(\"There are \",int(len(rawtx)/2), \" bytes left in the raw transaction.\")\n",
    "lock_time = rawtx\n",
    "print(\"Lock Time: \", lock_time)"
   ]
  },
  {
   "cell_type": "raw",
   "metadata": {},
   "source": [
    "<script>\n",
    "  $(document).ready(function(){\n",
    "    $('div.prompt').hide();\n",
    "    $('div.back-to-top').hide();\n",
    "    $('nav#menubar').hide();\n",
    "    $('.breadcrumb').hide();\n",
    "    $('.hidden-print').hide();\n",
    "  });\n",
    "</script>\n",
    "\n",
    "<footer id=\"attribution\" style=\"float:right; color:#999; background:#fff;\">\n",
    "Created with Jupyter, delivered by Fastly, rendered by Rackspace.\n",
    "</footer>"
   ]
  }
 ],
 "metadata": {
  "kernelspec": {
   "display_name": "Python 3",
   "language": "python",
   "name": "python3"
  },
  "language_info": {
   "codemirror_mode": {
    "name": "ipython",
    "version": 3
   },
   "file_extension": ".py",
   "mimetype": "text/x-python",
   "name": "python",
   "nbconvert_exporter": "python",
   "pygments_lexer": "ipython3",
   "version": "3.6.4"
  }
 },
 "nbformat": 4,
 "nbformat_minor": 2
}
