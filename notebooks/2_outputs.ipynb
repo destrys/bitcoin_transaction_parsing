{
 "cells": [
  {
   "cell_type": "raw",
   "metadata": {},
   "source": [
    "<script>\n",
    "  // http://chris-said.io/2016/02/13/how-to-make-polished-jupyter-presentations-with-optional-code-visibility/\n",
    "  // https://github.com/csaid/polished_notebooks\n",
    "  function code_toggle() {\n",
    "    if (code_shown){\n",
    "      $('div.input').hide('500');\n",
    "      $('#toggleButton').val('Show Code')\n",
    "    } else {\n",
    "      $('div.input').show('500');\n",
    "      $('#toggleButton').val('Hide Code')\n",
    "    }\n",
    "    code_shown = !code_shown\n",
    "  }\n",
    "\n",
    "  $( document ).ready(function(){\n",
    "    code_shown=false;\n",
    "    $('div.input').hide()\n",
    "  });\n",
    "</script>\n",
    "<form action=\"javascript:code_toggle()\"><input type=\"submit\" id=\"toggleButton\" value=\"Show Code\"></form>"
   ]
  },
  {
   "cell_type": "markdown",
   "metadata": {},
   "source": [
    "# Outputs (and inputs, but no signing details)\n",
    "\n",
    "As you saw in the transaction parsing notebook, an output of a bitcoin transaction is made of three fields:\n",
    "\n",
    "* Value \n",
    "* Script Length\n",
    "* Script\n",
    "\n",
    "The **value** is the number of satoshis 'encumbered' by the **script** that is **script length** bytes long.\n",
    "\n",
    "As we will will explore in this notebook, the script is not simply an address with an owner, but a small piece of code. To spend an 'unspent transacion output' (utxo), you have to provide information that, when combined with the script, evaluate to True, but that will be discussed later and in the notebook about inputs."
   ]
  },
  {
   "cell_type": "markdown",
   "metadata": {},
   "source": [
    "## Parsing an Output Script\n",
    "\n",
    "The transaction we de-serialized in the first notebook had two output scripts:"
   ]
  },
  {
   "cell_type": "code",
   "execution_count": 1,
   "metadata": {},
   "outputs": [],
   "source": [
    "output_script_1 = \"76a914a3d89c53bb956f08917b44d113c6b2bcbe0c29b788ac\""
   ]
  },
  {
   "cell_type": "code",
   "execution_count": 2,
   "metadata": {},
   "outputs": [
    {
     "name": "stdout",
     "output_type": "stream",
     "text": [
      "Output Script 1:  76a914a3d89c53bb956f08917b44d113c6b2bcbe0c29b788ac\n"
     ]
    }
   ],
   "source": [
    "print(\"Output Script 1: \", output_script_1)"
   ]
  },
  {
   "cell_type": "code",
   "execution_count": 3,
   "metadata": {},
   "outputs": [],
   "source": [
    "output_script_2 = \"76a91408338e1d5e26db3fce21b011795b1c3c8a5a5d0788ac\""
   ]
  },
  {
   "cell_type": "code",
   "execution_count": 4,
   "metadata": {},
   "outputs": [
    {
     "name": "stdout",
     "output_type": "stream",
     "text": [
      "Output Script 2:  76a91408338e1d5e26db3fce21b011795b1c3c8a5a5d0788ac\n"
     ]
    }
   ],
   "source": [
    "print(\"Output Script 2: \", output_script_2)"
   ]
  },
  {
   "cell_type": "markdown",
   "metadata": {},
   "source": [
    "Notice that both scripts start with 76a914 and end with 88ac, this isn't a coincidence."
   ]
  },
  {
   "cell_type": "markdown",
   "metadata": {},
   "source": [
    "### OPCODES\n",
    "\n",
    "*Script* is the rudimentary language that bitcoin uses to express the logic used to encumber an output. The scripts above are still hex-encoded bytes, so we need to decode those bytes into 'opcodes' which are the individual instructions interpreted by the bitcoin software.\n",
    "\n",
    "The only true reference for available opcodes and their encoding is the actual bitcoind code:\n",
    "https://github.com/bitcoin/bitcoin/blob/0.16/src/script/script.h#L47-L192\n",
    "\n",
    "but this link does have descriptions that are a useful reference:\n",
    "https://en.bitcoin.it/wiki/Script#Opcodes\n",
    "\n",
    "For The first output script:\n",
    "The first byte of both scripts is 76 which is OP_DUP\n",
    "The second byte of both scripts is a9 which is OP_HASH160\n",
    "The third byte of both scripts is 14 which is an instruction to push 0x14 (20) bytes to the stack.\n"
   ]
  },
  {
   "cell_type": "code",
   "execution_count": 5,
   "metadata": {},
   "outputs": [
    {
     "name": "stdout",
     "output_type": "stream",
     "text": [
      "Those bytes are:  a3d89c53bb956f08917b44d113c6b2bcbe0c29b7\n"
     ]
    }
   ],
   "source": [
    "print('Those bytes are: ', output_script_1[6:46])"
   ]
  },
  {
   "cell_type": "markdown",
   "metadata": {},
   "source": [
    "The second to last byte is 88 which is OP_EQUALVERIFY\n",
    "The last byte is ac which is OP_CHECKSIG\n",
    "\n",
    "The second output script is the same except for the 20 bytes in the middle"
   ]
  },
  {
   "cell_type": "code",
   "execution_count": 6,
   "metadata": {},
   "outputs": [
    {
     "name": "stdout",
     "output_type": "stream",
     "text": [
      "which are:  08338e1d5e26db3fce21b011795b1c3c8a5a5d07\n"
     ]
    }
   ],
   "source": [
    "print('which are: ', output_script_2[6:46])"
   ]
  },
  {
   "cell_type": "markdown",
   "metadata": {},
   "source": [
    "The python-bitcoinlib module has a script parser built-in so we don't need build one of our own."
   ]
  },
  {
   "cell_type": "code",
   "execution_count": 7,
   "metadata": {},
   "outputs": [],
   "source": [
    "from bitcoin.core import CScript"
   ]
  },
  {
   "cell_type": "code",
   "execution_count": 8,
   "metadata": {},
   "outputs": [
    {
     "name": "stdout",
     "output_type": "stream",
     "text": [
      "Parsed Script 1: \n"
     ]
    },
    {
     "data": {
      "text/plain": [
       "CScript([OP_DUP, OP_HASH160, x('a3d89c53bb956f08917b44d113c6b2bcbe0c29b7'), OP_EQUALVERIFY, OP_CHECKSIG])"
      ]
     },
     "execution_count": 8,
     "metadata": {},
     "output_type": "execute_result"
    }
   ],
   "source": [
    "parsed_script_1 = CScript.fromhex(output_script_1)\n",
    "print(\"Parsed Script 1: \")\n",
    "parsed_script_1"
   ]
  },
  {
   "cell_type": "markdown",
   "metadata": {},
   "source": [
    "## Script Evaluation\n",
    "\n",
    "Bitcoin script is stack-based reverse polish notation.\n",
    "\n",
    "This means that instead of writing 3 + 4 to do addition, you would do 3 4 +. \n",
    "\n",
    "You push 3 to the stack, then 4 to the stack, then use the + operator on the top two values of the stack.\n",
    "\n",
    "In bitcoin transactions, you the output is the second half on an equation written in script. The input script (ScriptSig) is the first part of the equation so that when they are combined they evaluate to true."
   ]
  },
  {
   "cell_type": "markdown",
   "metadata": {},
   "source": [
    "For these outputs, we have OP_DUP, OP_HASH160, bytes, OP_EQUALVERIFY, OP_CHECKSIG in that order. This is what is known as a P2PKH (pay to public key hash).\n",
    "\n",
    "Go to https://bitcoin.org/en/developer-guide#p2pkh-script-validation for a visualization on how a p2pkh script is evaluated.\n",
    "\n",
    "After that, head back to https://blockchain.info/tx/9021b49d445c719106c95d561b9c3fac7bcb3650db67684a9226cd7fa1e1c1a0 and find the input of the transaction where one of the outputs is spent. The format should be (SIG, PUBKEY)"
   ]
  },
  {
   "cell_type": "markdown",
   "metadata": {},
   "source": [
    "### ASIDE: Where exactly is that bitcoin address?\n",
    "\n",
    "When you give someone a bitcoin address, like the 1FwLde9A8xyiboJkmjpBnVUYi1DTbXi8yf in the output of this transaction, where does that go? The bytes field in the middle of the P2PKH script is that address, decoded into hex.\n",
    "\n",
    "The bitcoin address is encoded in base58Check encoding\n",
    "\n",
    "TODO: base58check notebook."
   ]
  },
  {
   "cell_type": "code",
   "execution_count": 9,
   "metadata": {},
   "outputs": [],
   "source": [
    "from bitcoin.base58 import CBase58Data\n",
    "from bitcoin.core import x"
   ]
  },
  {
   "cell_type": "code",
   "execution_count": 10,
   "metadata": {},
   "outputs": [
    {
     "data": {
      "text/plain": [
       "CBase58Data('1FwLde9A8xyiboJkmjpBnVUYi1DTbXi8yf')"
      ]
     },
     "execution_count": 10,
     "metadata": {},
     "output_type": "execute_result"
    }
   ],
   "source": [
    "CBase58Data.from_bytes(x(output_script_1[6:46]),0)"
   ]
  },
  {
   "cell_type": "code",
   "execution_count": 11,
   "metadata": {},
   "outputs": [
    {
     "data": {
      "text/plain": [
       "CBase58Data('1kNAebmDfKcAfEEC2cRgyVFw5jRSjsAyk')"
      ]
     },
     "execution_count": 11,
     "metadata": {},
     "output_type": "execute_result"
    }
   ],
   "source": [
    "CBase58Data.from_bytes(x(output_script_2[6:46]),0)"
   ]
  },
  {
   "cell_type": "markdown",
   "metadata": {},
   "source": [
    "## Other common output formats:\n",
    "\n",
    "From https://bitcoin.org/en/developer-guide#standard-transactions\n",
    "\n",
    "### P2PK\n",
    "\n",
    "Pubkey Script: ```pubkey OP_CHECKSIG```    \n",
    "Signature script: ```sig```\n",
    "\n",
    "### OP_RETURN\n",
    "\n",
    "Pubkey Script: ```OP_RETURN (0 to 40 bytes of data)```\n",
    "\n",
    "This is a way to put arbitrary bytes in the blockchain. The value of this type of output should be zero.\n",
    "You still have to pay a fee for this transaction, so you need an input, and probably an additional output for the value left over after the fee is paid.\n",
    "\n",
    "### Old Multisig\n",
    "\n",
    "Pubkey script: ```M (A pubkey) (B pubkey) (C pubkey...) N OP_CHECKMULTISIG```  \n",
    "Signature script: ```OP_0 A_sig (B sig) (C sig...)```\n",
    "    \n",
    "The OP_0 at the beginning of the scriptsig is required due to a bug in OP_CHECKMULTISIG.\n",
    "\n",
    "The m and n specify the m-of-n signers necessary to authorize a spend.\n",
    "\n",
    "### P2SH \n",
    "\n",
    "Pubkey script: ```OP_HASH160 Hash160(redeemScript) OP_EQUAL```  \n",
    "Signature script: ```sig (sig) (sig...) redeemScript```\n",
    "\n",
    "For example, you can do multisig inside a P2SH address:\n",
    "\n",
    "Pubkey script: ```OP_HASH160 Hash160(redeemScript) OP_EQUAL```  \n",
    "Redeem script: ```OP_2 A_pubkey B_pubkey C_pubkey OP_3 OP_CHECKMULTISIG```  \n",
    "Signature script: ```OP_0 A_sig C_sig redeemScript```  \n",
    "\n",
    "Mention segwit here.\n",
    "TODO: Segwit notebook.\n",
    "TODO: Lightning notebook."
   ]
  },
  {
   "cell_type": "raw",
   "metadata": {},
   "source": [
    "<script>\n",
    "  $(document).ready(function(){\n",
    "    $('div.prompt').hide();\n",
    "    $('div.back-to-top').hide();\n",
    "    $('nav#menubar').hide();\n",
    "    $('.breadcrumb').hide();\n",
    "    $('.hidden-print').hide();\n",
    "  });\n",
    "</script>\n",
    "\n",
    "<footer id=\"attribution\" style=\"float:right; color:#999; background:#fff;\">\n",
    "Created with Jupyter by Destry, delivered by Fastly, rendered by Rackspace.\n",
    "</footer>"
   ]
  }
 ],
 "metadata": {
  "kernelspec": {
   "display_name": "Python 3",
   "language": "python",
   "name": "python3"
  },
  "language_info": {
   "codemirror_mode": {
    "name": "ipython",
    "version": 3
   },
   "file_extension": ".py",
   "mimetype": "text/x-python",
   "name": "python",
   "nbconvert_exporter": "python",
   "pygments_lexer": "ipython3",
   "version": "3.6.4"
  }
 },
 "nbformat": 4,
 "nbformat_minor": 2
}
